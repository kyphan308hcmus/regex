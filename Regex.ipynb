{
 "cells": [
  {
   "cell_type": "markdown",
   "id": "3a231b21-825e-464c-a053-75143dccd7ea",
   "metadata": {},
   "source": [
    "# Ứng dụng của **``Regex``** trong **Python**"
   ]
  },
  {
   "cell_type": "markdown",
   "id": "f399346e-a4cb-453e-a6d2-2724236efda2",
   "metadata": {},
   "source": [
    "***Github**: https://github.com/kyphan308hcmus/regex"
   ]
  },
  {
   "cell_type": "markdown",
   "id": "c7f9ffa6-2075-45ce-9e7f-5f1192fafb16",
   "metadata": {},
   "source": [
    "#### **Thành viên nhóm 9:**\n",
    "   * **20280010**: Phạm Bảo Cương\n",
    "   * **20280053**: Cao Huỳnh Anh Khoa\n",
    "   * **20280057**: Phan Tiến Kỳ\n",
    "   * **20280099**: Trần Minh Tiến"
   ]
  },
  {
   "cell_type": "markdown",
   "id": "b95418a4-2d92-4696-9584-2441374f5d30",
   "metadata": {},
   "source": [
    "#### **Ví dụ 1**: Trích xuất ``tên`` từ một chuỗi.\n",
    "#### **Ví dụ 2**: Trích xuất học sinh có điểm ``B`` từ tập tin **grades.txt**.\n",
    "#### **Ví dụ 3**: Kiểm tra ``email`` hợp lệ hay không?\n",
    "#### **Ví dụ 4**: Trích xuất ``email`` và ``số điện thoại`` từ trang web.\n",
    "#### **Ví dụ 5**: Trích xuất ``địa chỉ`` của các cửa hàng của công ty **Tesla** tại **Mỹ**.\n",
    "#### **Ví dụ 6**: Trích xuất ``vị trí tuyển dụng`` của công ty **Deloitte** tại **Việt Nam**."
   ]
  },
  {
   "cell_type": "markdown",
   "id": "eb98cc86-88c1-4d85-b17b-e60ee1c10c7d",
   "metadata": {},
   "source": [
    "* Trong python, để sử dụng thư viện Regex ta dùng ``import re``.\n",
    "* ``pyperclip``: sao chép và dán vào bộ nhớ tạm thời.\n",
    "* ``requests``: yêu cầu HTTP."
   ]
  },
  {
   "cell_type": "code",
   "execution_count": 1,
   "id": "19417058-454a-4a5c-a05b-193908ce0940",
   "metadata": {
    "tags": []
   },
   "outputs": [
    {
     "name": "stdout",
     "output_type": "stream",
     "text": [
      "Requirement already satisfied: pyperclip in d:\\filepc\\folder\\anaconda3\\lib\\site-packages (1.8.2)\n"
     ]
    }
   ],
   "source": [
    "!pip3 install pyperclip\n",
    "import pyperclip\n",
    "import requests\n",
    "import re"
   ]
  },
  {
   "cell_type": "markdown",
   "id": "eac9af9d-ca0e-456b-af0f-2b33634e0b80",
   "metadata": {},
   "source": [
    "### **Ví dụ 1**: Trích xuất ``tên`` từ một chuỗi."
   ]
  },
  {
   "cell_type": "code",
   "execution_count": 2,
   "id": "091d12a4-b19f-4d80-a30b-14fa06a90dad",
   "metadata": {},
   "outputs": [],
   "source": [
    "def findNames(text):\n",
    "    pattern = r'[A-Z][a-z]+'\n",
    "    return re.findall(pattern, text)"
   ]
  },
  {
   "cell_type": "code",
   "execution_count": 3,
   "id": "05316c6a-d25f-45f7-adde-60bc3e448985",
   "metadata": {},
   "outputs": [
    {
     "name": "stdout",
     "output_type": "stream",
     "text": [
      "Bob is 10 years old, and his sister Mary is 7 years old. Lisa and David, their parents, have 2 kids.\n"
     ]
    }
   ],
   "source": [
    "text1 = 'Bob is 10 years old, and his sister Mary is 7 years old. Lisa and David, their parents, have 2 kids.'\n",
    "print(text1)"
   ]
  },
  {
   "cell_type": "code",
   "execution_count": 4,
   "id": "631ff790-e608-4a8a-af29-70c7cbf9664a",
   "metadata": {
    "tags": []
   },
   "outputs": [
    {
     "data": {
      "text/plain": [
       "['Bob', 'Mary', 'Lisa', 'David']"
      ]
     },
     "execution_count": 4,
     "metadata": {},
     "output_type": "execute_result"
    }
   ],
   "source": [
    "findNames(text1)"
   ]
  },
  {
   "cell_type": "markdown",
   "id": "f9a167bf-af7a-4769-ab83-db12ca5fc99a",
   "metadata": {},
   "source": [
    "### **Ví dụ 2**: Trích xuất học sinh có điểm ``B`` từ tập tin **grades.txt**."
   ]
  },
  {
   "cell_type": "code",
   "execution_count": 2,
   "id": "f0dd5b2a-4359-457f-a041-4124740e7341",
   "metadata": {
    "tags": []
   },
   "outputs": [],
   "source": [
    "def findGrades(grades):\n",
    "    pattern = r'([A-Z]\\S+ [A-Z]\\S+): [B]'\n",
    "    return re.findall(pattern, grades)"
   ]
  },
  {
   "cell_type": "code",
   "execution_count": 3,
   "id": "0a53f1e9-cd70-401b-b992-b03f18d164b9",
   "metadata": {},
   "outputs": [
    {
     "name": "stdout",
     "output_type": "stream",
     "text": [
      "Ronald Mayr: A\n",
      "Bell Kassulke: B\n",
      "Jacqueline Rupp: A \n",
      "Valentina Denk: C \n",
      "Simon Loidl: B \n",
      "Elias Jovanovic: B \n",
      "Stefanie Weninger: A \n",
      "Fabian Peer: C \n",
      "Hakim Botros: B\n",
      "Emilie Lorentsen: B\n",
      "\n"
     ]
    }
   ],
   "source": [
    "with open('grades.txt', 'r') as file:\n",
    "        grades = file.read()\n",
    "print(grades)"
   ]
  },
  {
   "cell_type": "code",
   "execution_count": 4,
   "id": "3962ff19-23dd-479d-8ed4-4a11e351ab6a",
   "metadata": {},
   "outputs": [
    {
     "data": {
      "text/plain": [
       "['Bell Kassulke',\n",
       " 'Simon Loidl',\n",
       " 'Elias Jovanovic',\n",
       " 'Hakim Botros',\n",
       " 'Emilie Lorentsen']"
      ]
     },
     "execution_count": 4,
     "metadata": {},
     "output_type": "execute_result"
    }
   ],
   "source": [
    "findGrades(grades)"
   ]
  },
  {
   "cell_type": "markdown",
   "id": "472a935d-fd53-488b-8420-159d091f7779",
   "metadata": {},
   "source": [
    "### **Ví dụ 3**: Kiểm tra ``email`` hợp lệ hay không?"
   ]
  },
  {
   "cell_type": "code",
   "execution_count": 5,
   "id": "c23f2cf6-c078-48f3-8537-80703e9629b4",
   "metadata": {
    "tags": []
   },
   "outputs": [],
   "source": [
    "def validateEmail(email):\n",
    "    pattern = r'\\b[A-Za-z0-9._%+-]+@[A-Za-z0-9.-]+\\.[A-Z|a-z]{2,}\\b'\n",
    "    print(email)\n",
    "    if(re.findall(pattern, email)):\n",
    "        print(\"Valid Email.\\n\")\n",
    "    else:\n",
    "        print(\"Invalid Email.\\n\")"
   ]
  },
  {
   "cell_type": "code",
   "execution_count": 6,
   "id": "7e8e8d4e-b1c4-4fed-b6cf-cbb2a5c88739",
   "metadata": {
    "tags": []
   },
   "outputs": [
    {
     "name": "stdout",
     "output_type": "stream",
     "text": [
      "ourteam@gmail.com\n",
      "abc123@gmail\n"
     ]
    }
   ],
   "source": [
    "text3_1 = \"ourteam@gmail.com\"\n",
    "print(text3_1)\n",
    "text3_2 = \"abc123@gmail\"\n",
    "print(text3_2)"
   ]
  },
  {
   "cell_type": "code",
   "execution_count": 7,
   "id": "6d9ac5d2-61f9-4a20-8bfe-50a09878b116",
   "metadata": {
    "tags": []
   },
   "outputs": [
    {
     "name": "stdout",
     "output_type": "stream",
     "text": [
      "ourteam@gmail.com\n",
      "Valid Email.\n",
      "\n",
      "abc123@gmail\n",
      "Invalid Email.\n",
      "\n"
     ]
    }
   ],
   "source": [
    "validateEmail(text3_1)\n",
    "validateEmail(text3_2)"
   ]
  },
  {
   "cell_type": "markdown",
   "id": "84364f23-bae5-4566-9b60-399770f15e57",
   "metadata": {},
   "source": [
    "### **Ví dụ 4**: Trích xuất ``email`` và ``số điện thoại`` từ trang web.\n",
    "* Trang web: https://www.unileverusa.com/news/media-contacts/ | https://nostarch.com/contactus\n",
    "<center><img src=\"formatphonenumber.png\" width=\"350\"></center> "
   ]
  },
  {
   "cell_type": "code",
   "execution_count": 8,
   "id": "06c36dd2-5ca8-4a1d-bbbe-b5c5f0db6e85",
   "metadata": {
    "tags": []
   },
   "outputs": [],
   "source": [
    "def findEmailAndPhoneNumber(text):\n",
    "    phoneRegex = re.compile(r'''(\n",
    "    (\\d{3}|\\(\\d{3}\\))?              # Area Code (Optional)\n",
    "    (\\s|-|\\.)                       # Separator\n",
    "    (\\d{3})                         # Frist Three Digits\n",
    "    (\\s|-|\\.)                       # Separator\n",
    "    (\\d{4})                         # Last Four Digits\n",
    "    (\\s*(ext|x|ext.)\\s*(\\d{2,5}))?  # Extension\n",
    "    )''', re.VERBOSE)\n",
    "    \n",
    "    emailRegex = re.compile(r'''(\n",
    "    [a-zA-Z0-9._%+-]+               # Username\n",
    "    @                               # @Symbol\n",
    "    [a-zA-Z0-9.-]+                  # Domain Name\n",
    "    (\\.[a-zA-Z]{2,})                # dot-something\n",
    "    )''', re.VERBOSE)\n",
    "\n",
    "    phone_groups = phoneRegex.findall(text)\n",
    "    email_groups = emailRegex.findall(text)\n",
    "    matched = []\n",
    "\n",
    "    for group in phone_groups:\n",
    "        matched.append(group[0])\n",
    "\n",
    "    for group in email_groups:\n",
    "        matched.append(group[0])\n",
    "\n",
    "    if len(matched) > 0:\n",
    "        pyperclip.copy('\\n'.join(matched))\n",
    "        print('Copied to clipboard!\\n')\n",
    "        print('\\n'.join(matched))\n",
    "    else:\n",
    "        print('No Phone Numbers or Emails found.')"
   ]
  },
  {
   "cell_type": "code",
   "execution_count": 9,
   "id": "6a101610-a389-4b0d-819a-afa11ed00918",
   "metadata": {
    "tags": []
   },
   "outputs": [
    {
     "name": "stdout",
     "output_type": "stream",
     "text": [
      "Copied to clipboard!\n",
      "\n",
      "201-500-9100\n",
      "212-642-7707\n",
      "212-704-4595\n",
      "212.601.3040\n",
      "212-819-4867\n",
      "312-729-4412\n",
      "212-656-9239\n",
      "802-658-3773 x 760\n",
      "212-537-8777\n",
      "917-344-4656\n",
      "212-445-8486\n",
      "201 903 6783\n",
      "201 903 6783\n",
      "mediarelations.usa@unilever.com\n",
      "sydney.spagnoletti@edelman.com\n",
      "axe@mcsaatchi.com\n",
      "sean.greenwood@benjerry.com\n",
      "carly.serrano@edelman.com\n",
      "Francheska.Taveras@edelman.com\n",
      "MediaRelations.USA@unilever.com\n",
      "Molly.Rowlett@edelman.com\n",
      "Molly.Rowlett@edelman.com\n",
      "KSlotten@webershandwick.com\n",
      "Dana.Paolucci@edelman.com\n",
      "jessica.ostrau@edelman.com\n",
      "Mediarelations.USA@unilever.com\n",
      "carly.serrano@edelman.com\n",
      "Kerry.langstine@bcw-global.com\n",
      "carly.serrano@edelman.com\n",
      "carly.serrano@edelman.com\n",
      "mediarelations.usa@unilever.com\n",
      "slassen@golin.com\n",
      "Liz.Harris@edelman.com\n",
      "carly.serrano@edelman.com\n",
      "Mediarelations.USA@unilever.com\n",
      "ZTopper@webershandwick.com\n",
      "mediarelations.usa@unilever.com\n",
      "Mediarelations.USA@unilever.com\n",
      "Mediarelations.USA@unilever.com\n",
      "Francheska.Taveras@edelman.com\n",
      "carly.serrano@edelman.com\n",
      "tameka.davis@olson.com\n",
      "MediaRelations.USA@unilever.com\n",
      "molly.rowlett@edelman.com\n",
      "Brandi.Thomas@seventhgeneration.com\n",
      "Mediarelations.USA@unilever.com\n",
      "mandrosiglio@webershandwick.com\n",
      "press@sirkensingtons.com\n",
      "ZTopper@webershandwick.com\n",
      "liz.harris@edelman.com\n",
      "liz.harris@edelman.com\n",
      "Carly.Serrano@edelman.com\n",
      "Samantha.albright@edelman.com\n",
      "caleigh.Burgess@edelman.com\n",
      "Colleen@house-of.com\n",
      "AYoung@webershandwick.com\n",
      "Elizabeth.Consul@edelman.com\n",
      "Elizabeth.Consul@edelman.com\n"
     ]
    }
   ],
   "source": [
    "text = str(pyperclip.paste())\n",
    "findEmailAndPhoneNumber(text)"
   ]
  },
  {
   "cell_type": "markdown",
   "id": "1ebedb89-3d1c-465d-9005-07d31fcc8a31",
   "metadata": {
    "tags": []
   },
   "source": [
    "### **Ví dụ 5**: Trích xuất ``địa chỉ`` của các cửa hàng của công ty **Tesla** tại **Mỹ**.\n",
    "* Trang web: https://www.tesla.com/findus/list/stores/United+States.\n",
    "   <center><img src=\"Tesla.png\" width=\"350\"></center> "
   ]
  },
  {
   "cell_type": "code",
   "execution_count": 23,
   "id": "1e279f97-750e-4afe-aba0-d9e34fee1982",
   "metadata": {},
   "outputs": [],
   "source": [
    "def findAddressTesla(text):\n",
    "    #print(text)\n",
    "    pattern = r'\\r\\n\\d{1,10}\\s+[^,]+,+\\s\\w{2}\\s\\d{5}'\n",
    "    info = re.findall(pattern, text)\n",
    "    for i in info:\n",
    "        string = i.replace(\"\\r\\n\", \" \")\n",
    "        print(string)"
   ]
  },
  {
   "cell_type": "code",
   "execution_count": 24,
   "id": "49b8f196-b8f7-40a6-8293-bd33781eb03a",
   "metadata": {
    "tags": []
   },
   "outputs": [
    {
     "name": "stdout",
     "output_type": "stream",
     "text": [
      " 9245 WEST GLENDALE AVENUE GLENDALE, AZ 85305\n",
      " 7444 E HAMPTON AVE MESA, AZ 85209\n",
      " 8300 E Raintree Drive Scottsdale, AZ 85260\n",
      " 7014 E. Camelback Road Suite #1210 Scottsdale, AZ 85251\n",
      " 15215 N. Kierland Blvd #165B1A Scottsdale, AZ 85254\n",
      " 28721 Canwood Street Bldg A Agoura Hills, CA 91301\n",
      " 1200 W Main St Alhambra, CA 91801\n",
      " 5206 Young St Suite B Bakersfield, CA 93311\n",
      " 1065 BREA MALL BREA, CA 92821\n",
      " 6700 Balfour Rd Brentwood, CA 94513\n",
      " 6692 Auto Center Dr Buena Park, CA 90621\n",
      " 811 S San Fernando Blvd Burbank, CA 91502\n",
      " 50 Edwards Court Burlingame, CA 94010\n",
      " 311 E DAILY DR CAMARILLO, CA 93010\n",
      " 6600 Topanga Canyon Blvd Suite 1049 Canoga Park, CA 91303\n",
      " 3248 Lionshead Avenue Carlsbad, CA 92010\n",
      " 201 Casa Buena Dr Corte Madera, CA 94925\n",
      " 1616 Redwood Highway Corte Madera, CA 94925\n",
      " 3020 Pullman Street Costa Mesa, CA 92626\n",
      " 6701 Amador Plaza Rd Dublin, CA 94568\n",
      " 8525 Bond Rd Elk Grove, CA 95624\n",
      " 4260 Broadway St Eureka, CA 95503\n",
      " 45500 Fremont Blvd Fremont, CA 94538\n",
      " 2988 N Burl Ave Fresno, CA 93727\n",
      " 500 Automall Dr Gilroy, CA 95020\n",
      " 539 Americana Way Glendale, CA 91210\n",
      " 2801 Barranca Pkwy Irvine, CA 92606\n",
      " 25471 Arctic Ocean Dr Lake Forest, CA 92630\n",
      " 10250 Santa Monica Blvd Suite 1340 Los Angeles, CA 90067\n",
      " 5840 W. Centinela Ave Los Angeles, CA 90045\n",
      " 23401 Civic Center Way Building #2 Suite 2D Malibu, CA 90265\n",
      " 4755 Alla Road Marina Del Rey, CA 90292\n",
      " 820 THE SHOPS AT MISSION VIEJO MISSION VIEJO, CA 92691\n",
      " 1533 Oakdale Rd Modesto, CA 95355\n",
      " 1901 Del Monte Blvd Seaside, CA 93955\n",
      " 367 Newport Center Drive Newport Beach, CA 92660\n",
      " 68080 Perez Rd Cathedral City, CA 92234\n",
      " 4180 El Camino Real Palo Alto, CA 94306\n",
      " 117 West Colorado Blvd Pasadena, CA 91105\n",
      " 10851 Edison Ct Rancho Cucamonga, CA 91730\n",
      " 2535 Arden Way Sacramento, CA 95825\n",
      " 4361 Granite Drive Rocklin, CA 95677\n",
      " 4545 La Jolla Village Drive Suite C17 San Diego, CA 92122\n",
      " 999 Van Ness Ave San Francisco, CA 94109\n",
      " 333 Santana Row Suite 1015 San Jose, CA 95128\n",
      " 400 Hitchcock Way Santa Barbara, CA 93105\n",
      " 395 Santa Monica Place #120 Santa Monica, CA 90401\n",
      " 1500 Collins Ave Colma, CA 94014\n",
      " 14006 Riverside Dr. Space 78 Sherman Oaks, CA 91423\n",
      " 3131 Auto Center Cir Stockton, CA 95212\n",
      " 750 E El Camino Real Sunnyvale, CA 94087\n",
      " 680 E EL CAMINO REAL SUNNYVALE, CA 94087\n",
      " 43191 Rancho Way Temecula, CA 92590\n",
      " 850 STANFORD SHOPPING CTR PALO ALTO, CA 94304\n",
      " 3525 W Carson St. Space 419 Torrance, CA 90503\n",
      " 1001 Admiral Callaghan Ln Vallejo, CA 94591\n",
      " 1246 Broadway Plaza Suite 1094 Walnut Creek, CA 94596\n",
      " 3000 E 1st Ave Space #148 Denver, CO 80206\n",
      " 1323 Motor City Dr Colorado Springs, CO 80905\n",
      " 5700 S Broadway Littleton, CO 80121\n",
      " 8401 Park Meadows Center Dr Suite #1650 Lone Tree, CO 80124\n",
      " 1606 N Lincoln Ave Loveland, CO 80538\n",
      " 1606 N Lincoln Ave Loveland, CO 80538\n",
      " 340 GREENWICH AVE GREENWICH, CT 06830\n",
      " 881 Boston Post Rd Milford, CT 06460\n",
      " 132 Christiana Mall Space 1401 Newark, DE 19702\n",
      " 909 H Street NW Suite 601 Washington DC, DC 20001\n",
      " 19565 Biscayne Blvd #1948 #1948 Aventura, FL 33180\n",
      " 6000 Glades Rd Suite 1121A Boca Raton, FL 33431\n",
      " 3851 Bird Road Miami, FL 33146\n",
      " 2829 N FEDERAL HWY FT LAUDERDALE, FL 33306\n",
      " 8900 Colonial Center Dr Fort Myers, FL 33905\n",
      " 4835 River City Drive Suite 105 Jacksonville, FL 32246\n",
      " 1545 E Merritt Island Causeway Meritt Island, FL 32952\n",
      " 7535 N. Kendall Dr Miami, FL 33156\n",
      " 4039 NE 1st Ave Miami, FL 33137\n",
      " 5415 Tamiami Trail N. H-2 Naples, FL 34108\n",
      " 8001 S Orange Blossom Trail Space 1280A Orlando, FL 32809\n",
      " 100 S Lake Destiny Rd Eatonville, FL 32810\n",
      " 140 University Town Center Drive Suite 138 Sarasota, FL 34243\n",
      " 2223 N Westshore Blvd Suite #269 Tampa, FL 33607\n",
      " 11945 N. Florida Ave Tampa, FL 33612\n",
      " 5544 Okeechobee Blvd West Palm Beach, FL 33417\n",
      " 6165 Avalon Boulevard Alpharetta, GA 30009\n",
      " 1400 Upper Hembree Rd Roswell, GA 30076\n",
      " 1580 Church St Decatur, GA 30033\n",
      " 1875 GREERS CHAPEL RD NW KENNESAW, GA 30144\n",
      " 8805 Abercorn St Savannah, GA 31406\n",
      " 1450 Ala Moana Blvd Suite 2035 Honolulu, HI 96814\n",
      " 2330 Kalakaua Ave Level 1 Banyan Court Honolulu, HI 96815\n",
      " 2592 S Beverly St Bldg B Suite 126 Boise, ID 83709\n",
      " 420 Olympia Dr Bloomington, IL 61704\n",
      " 3059 – 3067 N Elston Ave Chicago, IL 60618\n",
      " 901 North Rush Street Chicago, IL 60611\n",
      " 1200 Old Skokie Valley Road Highland Park, IL 60035\n",
      " 320 W. Golf Rd Schaumburg, IL 60195\n",
      " 1053 W. Grand Avenue Chicago, IL 60642\n",
      " 50 W. Ogden Ave Westmont, IL 60559\n",
      " 2201 Arthur Ave Elk Grove Village, IL 60007\n",
      " 1121 S MILWAUKEE AVE LIBERTYVILLE, IL 60048\n",
      " 3200 OGDEN AVE LISLE, IL 60532\n",
      " 4820 N Clinton St Fort Wayne, IN 46825\n",
      " 8280 Castleton Corner Drive Indianapolis, IN 46250\n",
      " 2601 104TH ST URBANDALE, IA 50322\n",
      " 9428 Reisterstown Road Owings Mills, MD 21117\n",
      " 7101 Democracy Blvd Suite 1272 Bethesda, MD 20817\n",
      " 840 Providence Highway Dedham, MA 02026\n",
      " 1245 Worcester St. Space 3018 Natick, MA 01760\n",
      " 98 ACCORD PARK DR NORWELL, MA 02061\n",
      " 210 Andover St Peabody, MA 01960\n",
      " 8105 Big Lake Rd Clarkston, MI 48346\n",
      " 2919 29th St SE Grand Rapids, MI 49512\n",
      " 2800 W. Big Beaver Road Space #N-114 Troy, MI 48084\n",
      " 6801 Washington Ave S Suite 110 Minneapolis, MN 55439\n",
      " 22015 S Diamond Lake Rd Rogers, MN 55374\n",
      " 2590 W Maplewood Dr Maplewood, MN 55109\n",
      " 322 Airport Rd S Pearl, MS 39208\n",
      " 10111 State Line Rd KANSAS CITY, MO 64114\n",
      " 16955 Chesterfield Airport Road Chesterfield, MO 63005\n",
      " 3250 E SAHARA AVE LAS VEGAS, NV 89104\n",
      " 7077 W Sahara Ave Las Vegas, NV 89117\n",
      " 9732 S Virginia Street Reno, NV 89511\n",
      " 1605 Route 70 West Cherry Hill, NJ 08002\n",
      " 3371 Brunswick Pike Lawrence Township, NJ 08648\n",
      " 530 Route 17 N Paramus, NJ 07652\n",
      " 135 US 22 Springfield, NJ 07081\n",
      " 17730 US-84 FRONTAGE SANTA FE, NM 87506\n",
      " 160 Van Brunt Street Brooklyn, NY 11231\n",
      " 3300 W Henrietta Rd Henrietta, NY 14623\n",
      " 2122 Northern Blvd Manhasset, NY 11030\n",
      " 860 Washington St. New York, NY 10014\n",
      " 1000 Nesconset Highway NESCONSET, NY 11787\n",
      " 115 Kisco Avenue Mt. Kisco, NY 10549\n",
      " 250 Tarrytown Rd White Plains, NY 10607\n",
      " 125 Westchester Avenue Suite #1400 White Plains, NY 10601\n",
      " 9140 East Independence Blvd Matthews, NC 28105\n",
      " 7101 Glenwood Avenue Raleigh, NC 27612\n",
      " 9111 Blue Ash Road Blue Ash, OH 45242\n",
      " 5180 Mayfield Road Lyndhurst, OH 44124\n",
      " 4099 Easton Loop West Columbus, OH 43219\n",
      " 6142 Telegraph Rd Toledo, OH 43612\n",
      " 1125 N Broadway Ave Oklahoma City, OK 73103\n",
      " 6010 S 129TH EAST AVE TULSA, OK 74134\n",
      " 63040 N HIGHWAY 97 BEND, OR 97703\n",
      " 4330 S Macadam Ave Portland, OR 97239\n",
      " 9321 SW Washington Square Road Space #T05 Portland, OR 97223\n",
      " 470 W Lancaster Ave Devon, PA 19333\n",
      " 160 N Gulph Road King of Prussia, PA 19406\n",
      " 14010 Perry Highway Wexford, PA 15090\n",
      " 399 Bald Hill Road Warwick, RI 02886\n",
      " 216 Montvue Rd Knoxville, TN 37919\n",
      " 3020 N GERMANTOWN RD BARTLETT, TN 38133\n",
      " 1641 Westgate Circle Brentwood, TN 37027\n",
      " 500 E SAINT ELMO RD AUSTIN, TX 78745\n",
      " 12845 Research Blvd Austin, TX 78759\n",
      " 11600 Century Oaks Terrace Austin, TX 78758\n",
      " 7045 N Expressway 77/83 Olmito, TX 78575\n",
      " 3605 S Padre Island Dr Corpus Christi, TX 78415\n",
      " 6500 Cedar Springs Road Suite 100 Dallas, TX 75235\n",
      " 8687 North Central Expwy Suite #1027 Dallas, TX 75225\n",
      " 7825 Helen of Troy Dr El Paso, TX 79912\n",
      " 5154 Monahans Avenue Fort Worth, TX 76109\n",
      " 275 University Drive Fort Worth, TX 76107\n",
      " 5865 E Hwy 290 Fredericksburg, TX 78624\n",
      " 5135 West Alabama Street Suite 5270 Houston, TX 77056\n",
      " 14820 North Fwy Houston, TX 77090\n",
      " 9633 Westheimer Rd HOUSTON, TX 77063\n",
      " 9595 SIX PINES DR THE WOODLANDS, TX 77380\n",
      " 6544 82ND ST LUBBOCK, TX 79424\n",
      " 5800 Democracy Drive Plano, TX 75024\n",
      " 7500 Windrose Avenue Space B185 Plano, TX 75024\n",
      " 23011 IH-10 West San Antonio, TX 78257\n",
      " 257 Grand Avenue Southlake, TX 76092\n",
      " 3408 S SW Loop 323 Tyler, TX 75701\n",
      " 2312 South State Street South Salt Lake City, UT 84115\n",
      " 7520 N MILITARY HWY NORFOLK, VA 23518\n",
      " 9850 W. Broad Street Glen Allen, VA 23060\n",
      " 8500 Tyco Rd Vienna, VA 22182\n",
      " 14408 NE 20th Street Bellevue, WA 98007\n",
      " 223 Bellevue Square Space 104 Bellevue, WA 98004\n",
      " 2200 6th Ave S Seattle, WA 98134\n",
      " 17731 Highway 99 Lynnwood, WA 98037\n",
      " 700 S GRADY WAY RENTON, WA 98057\n",
      " 2627 NE 46th Street Seattle, WA 98105\n",
      " 6624 Seybold Rd Madison, WI 53719\n",
      " 12011 W Silver Spring Dr Milwaukee, WI 53225\n"
     ]
    }
   ],
   "source": [
    "text = str(pyperclip.paste())\n",
    "findAddressTesla(text)"
   ]
  },
  {
   "cell_type": "markdown",
   "id": "9a63fcb1-672a-4b56-acc1-a0957c1a5c75",
   "metadata": {},
   "source": [
    "### **Ví dụ 6**: Trích xuất ``vị trí tuyển dụng`` của công ty **Deloitte** tại **Việt Nam**.\n",
    "* Trang web: https://jobs.sea.deloitte.com/search/?q=data&q2=&alertId=&locationsearch=&title=&location=VN&department=.\n",
    "<center><img src=\"Deloitte.png\" width=\"350\"></center> "
   ]
  },
  {
   "cell_type": "code",
   "execution_count": 15,
   "id": "23d88de5-2187-4b22-bf86-8c2917ea6970",
   "metadata": {},
   "outputs": [],
   "source": [
    "def findRoleDeloitte():\n",
    "    html = requests.get(\"https://jobs.sea.deloitte.com/search/?q=data&q2=&alertId=&locationsearch=&title=&location=VN&department=\")\n",
    "    html.encoding = html.apparent_encoding #utf8\n",
    "    #print(html.text)\n",
    "    linkRegex = re.compile('link\">(.*?)</a>\\n\\t')\n",
    "    text = linkRegex.findall(html.text)\n",
    "    print(*text, sep=\"\\n\")"
   ]
  },
  {
   "cell_type": "code",
   "execution_count": 16,
   "id": "3ef50373-d4d6-4b6a-99ac-42f1065390df",
   "metadata": {},
   "outputs": [
    {
     "name": "stdout",
     "output_type": "stream",
     "text": [
      "Consultant/Senior Consultant - Salesforce Technical - HN/HCM\n",
      "Consultant - Advertising, Marketing &amp; Commerce (Salesforce Marketing Cloud Functional) - HN/HCM\n",
      "Intern - Financial Advisory\n",
      "Senior Manager/ Director - Advertising, Marketing &amp; Commerce (Adobe Lead) - VN\n",
      "Intern, Risk Advisory - Financial Risk\n",
      "Senior Manager/ Director - Advertising, Marketing &amp; Commerce (Country Digital Lead) - VN\n",
      "Tax Consultant - Transfer Pricing\n",
      "Senior CMBD\n",
      "Senior Consultant - Strategy &amp; Business Design (Monitor Deloitte) - VN\n",
      "Platform Implementation Project Manager/Developer\n",
      "Intern, Operational Risk Advisory\n",
      "Experienced Associate - Audit &amp; Assurance (HN&amp;HCM)\n",
      "Senior Consultant - SAP Master Data - VN\n",
      "Analyst - Audit &amp; Assurance - Advisory Services\n",
      "Consulting Analyst - VN\n",
      "Consultant/Senior Consultant - Financial Advisory - M&amp;A Transaction Services\n",
      "Senior Consultant - Risk Advisory - Operational Risk\n",
      "Senior Associate - Audit &amp; Assurance (HN&amp;HCM)\n",
      "Risk Advisory Consultant - Cyber Security\n",
      "Senior, Risk Advisory - Financial Risk\n",
      "Senior Consultant/Manager - Salesforce Solution Architect - HN/HCM\n",
      "Manager - Salesforce Solution Architect - HN/HCM\n",
      "Consultant - Strategy &amp; Business Design (Monitor Deloitte) - VN\n",
      "Senior Consultant - Financial Risk, Modelling\n",
      "Talent Sourcing Specialist - HCM/Hanoi\n"
     ]
    }
   ],
   "source": [
    "findRoleDeloitte()"
   ]
  },
  {
   "cell_type": "code",
   "execution_count": null,
   "id": "3029ab91-66ba-4e9a-ac12-c6f7695759ca",
   "metadata": {},
   "outputs": [],
   "source": []
  }
 ],
 "metadata": {
  "kernelspec": {
   "display_name": "Python 3",
   "language": "python",
   "name": "python3"
  },
  "language_info": {
   "codemirror_mode": {
    "name": "ipython",
    "version": 3
   },
   "file_extension": ".py",
   "mimetype": "text/x-python",
   "name": "python",
   "nbconvert_exporter": "python",
   "pygments_lexer": "ipython3",
   "version": "3.8.8"
  }
 },
 "nbformat": 4,
 "nbformat_minor": 5
}
