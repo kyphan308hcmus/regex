{
 "cells": [
  {
   "cell_type": "markdown",
   "id": "3a231b21-825e-464c-a053-75143dccd7ea",
   "metadata": {},
   "source": [
    "# Ứng dụng của **``Regex``** trong **Python**"
   ]
  },
  {
   "cell_type": "markdown",
   "id": "f399346e-a4cb-453e-a6d2-2724236efda2",
   "metadata": {},
   "source": [
    "***Github**: https://github.com/kyphan308hcmus/regex"
   ]
  },
  {
   "cell_type": "markdown",
   "id": "c7f9ffa6-2075-45ce-9e7f-5f1192fafb16",
   "metadata": {},
   "source": [
    "#### **Thành viên nhóm 9:**\n",
    "   * **20280010**: Phạm Bảo Cương\n",
    "   * **20280053**: Cao Huỳnh Anh Khoa\n",
    "   * **20280057**: Phan Tiến Kỳ\n",
    "   * **20280099**: Trần Minh Tiến"
   ]
  },
  {
   "cell_type": "markdown",
   "id": "b95418a4-2d92-4696-9584-2441374f5d30",
   "metadata": {},
   "source": [
    "#### **Ví dụ 1**: Trích xuất ``tên`` từ một chuỗi.\n",
    "#### **Ví dụ 2**: Trích xuất học sinh có điểm ``B`` từ tập tin **grades.txt**.\n",
    "#### **Ví dụ 3**: Kiểm tra ``email`` hợp lệ hay không?\n",
    "#### **Ví dụ 4**: Trích xuất ``email`` và ``số điện thoại`` từ trang web.\n",
    "#### **Ví dụ 5**: Trích xuất ``địa chỉ`` của các cửa hàng của công ty **Tesla** tại **Mỹ**.\n",
    "#### **Ví dụ 6**: Trích xuất ``vị trí tuyển dụng`` của công ty **Deloitte** tại **Việt Nam**."
   ]
  },
  {
   "cell_type": "markdown",
   "id": "eb98cc86-88c1-4d85-b17b-e60ee1c10c7d",
   "metadata": {},
   "source": [
    "* Trong python, để sử dụng thư viện Regex ta dùng ``import re``.\n",
    "* ``pyperclip``: sao chép và dán vào bộ nhớ tạm thời.\n",
    "* ``requests``: yêu cầu HTTP."
   ]
  },
  {
   "cell_type": "code",
   "execution_count": 1,
   "id": "19417058-454a-4a5c-a05b-193908ce0940",
   "metadata": {
    "tags": []
   },
   "outputs": [
    {
     "name": "stdout",
     "output_type": "stream",
     "text": [
      "Requirement already satisfied: pyperclip in d:\\filepc\\folder\\anaconda3\\lib\\site-packages (1.8.2)\n"
     ]
    }
   ],
   "source": [
    "!pip3 install pyperclip\n",
    "import pyperclip\n",
    "import requests\n",
    "import re"
   ]
  },
  {
   "cell_type": "markdown",
   "id": "eac9af9d-ca0e-456b-af0f-2b33634e0b80",
   "metadata": {},
   "source": [
    "### **Ví dụ 1**: Trích xuất ``tên`` từ một chuỗi."
   ]
  },
  {
   "cell_type": "code",
   "execution_count": null,
   "id": "091d12a4-b19f-4d80-a30b-14fa06a90dad",
   "metadata": {},
   "outputs": [],
   "source": [
    "def findNames(text):\n",
    "    pattern = r'[A-Z][a-z]+'\n",
    "    return re.findall(pattern, text)"
   ]
  },
  {
   "cell_type": "code",
   "execution_count": null,
   "id": "05316c6a-d25f-45f7-adde-60bc3e448985",
   "metadata": {},
   "outputs": [],
   "source": [
    "text1 = 'Bob is 10 years old, and his sister Mary is 7 years old. Lisa and David, their parents, have 2 kids.'\n",
    "print(text1)"
   ]
  },
  {
   "cell_type": "code",
   "execution_count": null,
   "id": "631ff790-e608-4a8a-af29-70c7cbf9664a",
   "metadata": {
    "tags": []
   },
   "outputs": [],
   "source": [
    "findNames(text1)"
   ]
  },
  {
   "cell_type": "markdown",
   "id": "f9a167bf-af7a-4769-ab83-db12ca5fc99a",
   "metadata": {},
   "source": [
    "### **Ví dụ 2**: Trích xuất học sinh có điểm ``B`` từ tập tin **grades.txt**."
   ]
  },
  {
   "cell_type": "code",
   "execution_count": 2,
   "id": "f0dd5b2a-4359-457f-a041-4124740e7341",
   "metadata": {
    "tags": []
   },
   "outputs": [],
   "source": [
    "def findGrades(grades):\n",
    "    pattern = r'([A-Z]\\S+ [A-Z]\\S+): [B]'\n",
    "    return re.findall(pattern, grades)"
   ]
  },
  {
   "cell_type": "code",
   "execution_count": 3,
   "id": "0a53f1e9-cd70-401b-b992-b03f18d164b9",
   "metadata": {},
   "outputs": [
    {
     "name": "stdout",
     "output_type": "stream",
     "text": [
      "Ronald Mayr: A\n",
      "Bell Kassulke: B\n",
      "Jacqueline Rupp: A \n",
      "Valentina Denk: C \n",
      "Simon Loidl: B \n",
      "Elias Jovanovic: B \n",
      "Stefanie Weninger: A \n",
      "Fabian Peer: C \n",
      "Hakim Botros: B\n",
      "Emilie Lorentsen: B\n",
      "\n"
     ]
    }
   ],
   "source": [
    "with open('grades.txt', 'r') as file:\n",
    "        grades = file.read()\n",
    "print(grades)"
   ]
  },
  {
   "cell_type": "code",
   "execution_count": 4,
   "id": "3962ff19-23dd-479d-8ed4-4a11e351ab6a",
   "metadata": {},
   "outputs": [
    {
     "data": {
      "text/plain": [
       "['Bell Kassulke',\n",
       " 'Simon Loidl',\n",
       " 'Elias Jovanovic',\n",
       " 'Hakim Botros',\n",
       " 'Emilie Lorentsen']"
      ]
     },
     "execution_count": 4,
     "metadata": {},
     "output_type": "execute_result"
    }
   ],
   "source": [
    "findGrades(grades)"
   ]
  },
  {
   "cell_type": "markdown",
   "id": "472a935d-fd53-488b-8420-159d091f7779",
   "metadata": {},
   "source": [
    "### **Ví dụ 3**: Kiểm tra ``email`` hợp lệ hay không?"
   ]
  },
  {
   "cell_type": "code",
   "execution_count": 5,
   "id": "c23f2cf6-c078-48f3-8537-80703e9629b4",
   "metadata": {
    "tags": []
   },
   "outputs": [],
   "source": [
    "def validateEmail(email):\n",
    "    pattern = r'\\b[A-Za-z0-9._%+-]+@[A-Za-z0-9.-]+\\.[A-Z|a-z]{2,}\\b'\n",
    "    print(email)\n",
    "    if(re.findall(pattern, email)):\n",
    "        print(\"Valid Email.\\n\")\n",
    "    else:\n",
    "        print(\"Invalid Email.\\n\")"
   ]
  },
  {
   "cell_type": "code",
   "execution_count": 6,
   "id": "7e8e8d4e-b1c4-4fed-b6cf-cbb2a5c88739",
   "metadata": {
    "tags": []
   },
   "outputs": [
    {
     "name": "stdout",
     "output_type": "stream",
     "text": [
      "ourteam@gmail.com\n",
      "abc123@gmail\n"
     ]
    }
   ],
   "source": [
    "text3_1 = \"ourteam@gmail.com\"\n",
    "print(text3_1)\n",
    "text3_2 = \"abc123@gmail\"\n",
    "print(text3_2)"
   ]
  },
  {
   "cell_type": "code",
   "execution_count": 7,
   "id": "6d9ac5d2-61f9-4a20-8bfe-50a09878b116",
   "metadata": {
    "tags": []
   },
   "outputs": [
    {
     "name": "stdout",
     "output_type": "stream",
     "text": [
      "ourteam@gmail.com\n",
      "Valid Email.\n",
      "\n",
      "abc123@gmail\n",
      "Invalid Email.\n",
      "\n"
     ]
    }
   ],
   "source": [
    "validateEmail(text3_1)\n",
    "validateEmail(text3_2)"
   ]
  },
  {
   "cell_type": "markdown",
   "id": "84364f23-bae5-4566-9b60-399770f15e57",
   "metadata": {},
   "source": [
    "### **Ví dụ 4**: Trích xuất ``email`` và ``số điện thoại`` từ trang web.\n",
    "* Trang web: https://www.unileverusa.com/news/media-contacts/ | https://nostarch.com/contactus\n",
    "<center><img src=\"formatphonenumber.png\" width=\"350\"></center> "
   ]
  },
  {
   "cell_type": "code",
   "execution_count": 8,
   "id": "06c36dd2-5ca8-4a1d-bbbe-b5c5f0db6e85",
   "metadata": {
    "tags": []
   },
   "outputs": [],
   "source": [
    "def findEmailAndPhoneNumber(text):\n",
    "    phoneRegex = re.compile(r'''(\n",
    "    (\\d{3}|\\(\\d{3}\\))?              # Area Code (Optional)\n",
    "    (\\s|-|\\.)                       # Separator\n",
    "    (\\d{3})                         # Frist Three Digits\n",
    "    (\\s|-|\\.)                       # Separator\n",
    "    (\\d{4})                         # Last Four Digits\n",
    "    (\\s*(ext|x|ext.)\\s*(\\d{2,5}))?  # Extension\n",
    "    )''', re.VERBOSE)\n",
    "    \n",
    "    emailRegex = re.compile(r'''(\n",
    "    [a-zA-Z0-9._%+-]+               # Username\n",
    "    @                               # @Symbol\n",
    "    [a-zA-Z0-9.-]+                  # Domain Name\n",
    "    (\\.[a-zA-Z]{2,})                # dot-something\n",
    "    )''', re.VERBOSE)\n",
    "\n",
    "    phone_groups = phoneRegex.findall(text)\n",
    "    email_groups = emailRegex.findall(text)\n",
    "    matched = []\n",
    "\n",
    "    for group in phone_groups:\n",
    "        matched.append(group[0])\n",
    "\n",
    "    for group in email_groups:\n",
    "        matched.append(group[0])\n",
    "\n",
    "    if len(matched) > 0:\n",
    "        pyperclip.copy('\\n'.join(matched))\n",
    "        print('Copied to clipboard!\\n')\n",
    "        print('\\n'.join(matched))\n",
    "    else:\n",
    "        print('No Phone Numbers or Emails found.')"
   ]
  },
  {
   "cell_type": "code",
   "execution_count": 9,
   "id": "6a101610-a389-4b0d-819a-afa11ed00918",
   "metadata": {
    "tags": []
   },
   "outputs": [
    {
     "name": "stdout",
     "output_type": "stream",
     "text": [
      "Copied to clipboard!\n",
      "\n",
      "201-500-9100\n",
      "212-642-7707\n",
      "212-704-4595\n",
      "212.601.3040\n",
      "212-819-4867\n",
      "312-729-4412\n",
      "212-656-9239\n",
      "802-658-3773 x 760\n",
      "212-537-8777\n",
      "917-344-4656\n",
      "212-445-8486\n",
      "201 903 6783\n",
      "201 903 6783\n",
      "mediarelations.usa@unilever.com\n",
      "sydney.spagnoletti@edelman.com\n",
      "axe@mcsaatchi.com\n",
      "sean.greenwood@benjerry.com\n",
      "carly.serrano@edelman.com\n",
      "Francheska.Taveras@edelman.com\n",
      "MediaRelations.USA@unilever.com\n",
      "Molly.Rowlett@edelman.com\n",
      "Molly.Rowlett@edelman.com\n",
      "KSlotten@webershandwick.com\n",
      "Dana.Paolucci@edelman.com\n",
      "jessica.ostrau@edelman.com\n",
      "Mediarelations.USA@unilever.com\n",
      "carly.serrano@edelman.com\n",
      "Kerry.langstine@bcw-global.com\n",
      "carly.serrano@edelman.com\n",
      "carly.serrano@edelman.com\n",
      "mediarelations.usa@unilever.com\n",
      "slassen@golin.com\n",
      "Liz.Harris@edelman.com\n",
      "carly.serrano@edelman.com\n",
      "Mediarelations.USA@unilever.com\n",
      "ZTopper@webershandwick.com\n",
      "mediarelations.usa@unilever.com\n",
      "Mediarelations.USA@unilever.com\n",
      "Mediarelations.USA@unilever.com\n",
      "Francheska.Taveras@edelman.com\n",
      "carly.serrano@edelman.com\n",
      "tameka.davis@olson.com\n",
      "MediaRelations.USA@unilever.com\n",
      "molly.rowlett@edelman.com\n",
      "Brandi.Thomas@seventhgeneration.com\n",
      "Mediarelations.USA@unilever.com\n",
      "mandrosiglio@webershandwick.com\n",
      "press@sirkensingtons.com\n",
      "ZTopper@webershandwick.com\n",
      "liz.harris@edelman.com\n",
      "liz.harris@edelman.com\n",
      "Carly.Serrano@edelman.com\n",
      "Samantha.albright@edelman.com\n",
      "caleigh.Burgess@edelman.com\n",
      "Colleen@house-of.com\n",
      "AYoung@webershandwick.com\n",
      "Elizabeth.Consul@edelman.com\n",
      "Elizabeth.Consul@edelman.com\n"
     ]
    }
   ],
   "source": [
    "text = str(pyperclip.paste())\n",
    "findEmailAndPhoneNumber(text)"
   ]
  },
  {
   "cell_type": "markdown",
   "id": "1ebedb89-3d1c-465d-9005-07d31fcc8a31",
   "metadata": {
    "tags": []
   },
   "source": [
    "### **Ví dụ 5**: Trích xuất ``địa chỉ`` của các cửa hàng của công ty **Tesla** tại **Mỹ**.\n",
    "* Trang web: https://www.tesla.com/findus/list/stores/United+States.\n",
    "   <center><img src=\"Tesla.png\" width=\"350\"></center> "
   ]
  },
  {
   "cell_type": "code",
   "execution_count": 19,
   "id": "1e279f97-750e-4afe-aba0-d9e34fee1982",
   "metadata": {},
   "outputs": [],
   "source": [
    "def findAddressTesla(text):\n",
    "    #print(text)\n",
    "    pattern = r'\\r\\n\\d{1,10}\\s+[^,]+,+\\s\\w{2}\\s\\d{5}'\n",
    "    info = re.findall(pattern, text)\n",
    "    for i in info:\n",
    "        string = i.replace(\"\\r\\n\", \" \")\n",
    "        print(string)"
   ]
  },
  {
   "cell_type": "code",
   "execution_count": 20,
   "id": "49b8f196-b8f7-40a6-8293-bd33781eb03a",
   "metadata": {
    "tags": []
   },
   "outputs": [],
   "source": [
    "text = str(pyperclip.paste())\n",
    "findAddressTesla(text)"
   ]
  },
  {
   "cell_type": "markdown",
   "id": "9a63fcb1-672a-4b56-acc1-a0957c1a5c75",
   "metadata": {},
   "source": [
    "### **Ví dụ 6**: Trích xuất ``vị trí tuyển dụng`` của công ty **Deloitte** tại **Việt Nam**.\n",
    "* Trang web: https://jobs.sea.deloitte.com/search/?q=data&q2=&alertId=&locationsearch=&title=&location=VN&department=.\n",
    "<center><img src=\"Deloitte.png\" width=\"350\"></center> "
   ]
  },
  {
   "cell_type": "code",
   "execution_count": 15,
   "id": "23d88de5-2187-4b22-bf86-8c2917ea6970",
   "metadata": {},
   "outputs": [],
   "source": [
    "def findRoleDeloitte():\n",
    "    html = requests.get(\"https://jobs.sea.deloitte.com/search/?q=data&q2=&alertId=&locationsearch=&title=&location=VN&department=\")\n",
    "    html.encoding = html.apparent_encoding #utf8\n",
    "    #print(html.text)\n",
    "    linkRegex = re.compile('link\">(.*?)</a>\\n\\t')\n",
    "    text = linkRegex.findall(html.text)\n",
    "    print(*text, sep=\"\\n\")"
   ]
  },
  {
   "cell_type": "code",
   "execution_count": 16,
   "id": "3ef50373-d4d6-4b6a-99ac-42f1065390df",
   "metadata": {},
   "outputs": [
    {
     "name": "stdout",
     "output_type": "stream",
     "text": [
      "Consultant/Senior Consultant - Salesforce Technical - HN/HCM\n",
      "Consultant - Advertising, Marketing &amp; Commerce (Salesforce Marketing Cloud Functional) - HN/HCM\n",
      "Intern - Financial Advisory\n",
      "Senior Manager/ Director - Advertising, Marketing &amp; Commerce (Adobe Lead) - VN\n",
      "Intern, Risk Advisory - Financial Risk\n",
      "Senior Manager/ Director - Advertising, Marketing &amp; Commerce (Country Digital Lead) - VN\n",
      "Tax Consultant - Transfer Pricing\n",
      "Senior CMBD\n",
      "Senior Consultant - Strategy &amp; Business Design (Monitor Deloitte) - VN\n",
      "Platform Implementation Project Manager/Developer\n",
      "Intern, Operational Risk Advisory\n",
      "Experienced Associate - Audit &amp; Assurance (HN&amp;HCM)\n",
      "Senior Consultant - SAP Master Data - VN\n",
      "Analyst - Audit &amp; Assurance - Advisory Services\n",
      "Consulting Analyst - VN\n",
      "Consultant/Senior Consultant - Financial Advisory - M&amp;A Transaction Services\n",
      "Senior Consultant - Risk Advisory - Operational Risk\n",
      "Senior Associate - Audit &amp; Assurance (HN&amp;HCM)\n",
      "Risk Advisory Consultant - Cyber Security\n",
      "Senior, Risk Advisory - Financial Risk\n",
      "Senior Consultant/Manager - Salesforce Solution Architect - HN/HCM\n",
      "Manager - Salesforce Solution Architect - HN/HCM\n",
      "Consultant - Strategy &amp; Business Design (Monitor Deloitte) - VN\n",
      "Senior Consultant - Financial Risk, Modelling\n",
      "Talent Sourcing Specialist - HCM/Hanoi\n"
     ]
    }
   ],
   "source": [
    "findRoleDeloitte()"
   ]
  },
  {
   "cell_type": "code",
   "execution_count": null,
   "id": "3029ab91-66ba-4e9a-ac12-c6f7695759ca",
   "metadata": {},
   "outputs": [],
   "source": []
  }
 ],
 "metadata": {
  "kernelspec": {
   "display_name": "Python 3",
   "language": "python",
   "name": "python3"
  },
  "language_info": {
   "codemirror_mode": {
    "name": "ipython",
    "version": 3
   },
   "file_extension": ".py",
   "mimetype": "text/x-python",
   "name": "python",
   "nbconvert_exporter": "python",
   "pygments_lexer": "ipython3",
   "version": "3.8.8"
  }
 },
 "nbformat": 4,
 "nbformat_minor": 5
}
